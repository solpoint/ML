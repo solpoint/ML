{
 "cells": [
  {
   "cell_type": "code",
   "execution_count": 1,
   "metadata": {},
   "outputs": [],
   "source": [
    "import findspark\n",
    "findspark.init()\n",
    "import pyspark\n",
    "import random\n",
    "from pyspark.context import SparkContext\n",
    "from pyspark.sql.session import SparkSession\n",
    "from pyspark.sql.functions import sum, avg\n",
    "sc = SparkContext(appName='local') \n",
    "spark = SparkSession(sc)"
   ]
  },
  {
   "cell_type": "markdown",
   "metadata": {},
   "source": [
    "<b>Explain your choice of processing framework briefly.</b>\n",
    "\n",
    "Spark as compared to MapReduce is able to run more faster and effeciently than MapReduce both on memory and disk. This is due to\n",
    "it's ability to perform work on the main worker node and prevent unnecessary I/O disk operations. Fcor iterative programs, it \n",
    "has a low iteration period the first time and is even lower in subsequent iterations compared to Hadoop.It even has a rider on \n",
    "it, in that it can easily output the data on disk if the memory is full.\n",
    "As a programming language, it is also easy to set up and is rich in libraries/APIs making it easier to perform REPL operations\n"
   ]
  },
  {
   "cell_type": "code",
   "execution_count": 21,
   "metadata": {},
   "outputs": [
    {
     "name": "stdout",
     "output_type": "stream",
     "text": [
      "+----+--------------------+----------------+-----+-------+-----------+------------+\n",
      "|iata|             airport|            city|state|country|        lat|        long|\n",
      "+----+--------------------+----------------+-----+-------+-----------+------------+\n",
      "| 00M|            Thigpen |     Bay Springs|   MS|    USA|31.95376472|-89.23450472|\n",
      "| 00R|Livingston Municipal|      Livingston|   TX|    USA|30.68586111|-95.01792778|\n",
      "| 00V|         Meadow Lake|Colorado Springs|   CO|    USA|38.94574889|-104.5698933|\n",
      "| 01G|        Perry-Warsaw|           Perry|   NY|    USA|42.74134667|-78.05208056|\n",
      "| 01J|    Hilliard Airpark|        Hilliard|   FL|    USA| 30.6880125|-81.90594389|\n",
      "| 01M|   Tishomingo County|         Belmont|   MS|    USA|34.49166667|-88.20111111|\n",
      "| 02A|         Gragg-Wade |         Clanton|   AL|    USA|32.85048667|-86.61145333|\n",
      "| 02C|             Capitol|      Brookfield|   WI|    USA|   43.08751|-88.17786917|\n",
      "| 02G|   Columbiana County|  East Liverpool|   OH|    USA|40.67331278|-80.64140639|\n",
      "| 03D|    Memphis Memorial|         Memphis|   MO|    USA|40.44725889|-92.22696056|\n",
      "+----+--------------------+----------------+-----+-------+-----------+------------+\n",
      "only showing top 10 rows\n",
      "\n",
      "+----+--------------------+\n",
      "|Code|         Description|\n",
      "+----+--------------------+\n",
      "| 02Q|       Titan Airways|\n",
      "| 04Q|  Tradewind Aviation|\n",
      "| 05Q| Comlux Aviation, AG|\n",
      "| 06Q|Master Top Linhas...|\n",
      "| 07Q| Flair Airlines Ltd.|\n",
      "| 09Q|      Swift Air, LLC|\n",
      "| 0BQ|                 DCA|\n",
      "| 0CQ|ACM AIR CHARTER GmbH|\n",
      "| 0FQ|Maine Aviation Ai...|\n",
      "| 0GQ|Inter Island Airw...|\n",
      "+----+--------------------+\n",
      "only showing top 10 rows\n",
      "\n"
     ]
    }
   ],
   "source": [
    "#Load data\n",
    "basePath = \"C:/Udvikling/edu/BigData/003/Data/\"\n",
    "airports = spark.read.format(\"csv\").load(basePath + \"airports.csv\", header=\"true\",inferSchema='true').show(10)\n",
    "carriers = spark.read.format(\"csv\").load(basePath + \"carriers.csv\", header=\"true\",inferSchema='true').show(10)\n",
    "flights = spark.read.format(\"csv\").load(basePath + \"flights/*\", header=\"true\",inferSchema='true')"
   ]
  },
  {
   "cell_type": "code",
   "execution_count": 38,
   "metadata": {},
   "outputs": [
    {
     "name": "stdout",
     "output_type": "stream",
     "text": [
      "Number of flights from JFK to LAX were 147,217\n"
     ]
    }
   ],
   "source": [
    "#How many flights were there from JFK to LAX?\n",
    "\n",
    "flightsJFKLAX = flights.where(\"origin='JFK' and dest='LAX'\").count()\n",
    "print(\"Number of flights from JFK to LAX were {:,}\".format(flightsJFKLAX))"
   ]
  },
  {
   "cell_type": "code",
   "execution_count": 59,
   "metadata": {},
   "outputs": [
    {
     "name": "stdout",
     "output_type": "stream",
     "text": [
      "+-------------+\n",
      "|sum(ArrDelay)|\n",
      "+-------------+\n",
      "| 8.12959892E8|\n",
      "+-------------+\n",
      "\n"
     ]
    }
   ],
   "source": [
    "#What was the sum and average of all arrival delays for all delayed flights?\n",
    "flights.select(sum(\"ArrDelay\")).show()"
   ]
  },
  {
   "cell_type": "code",
   "execution_count": 60,
   "metadata": {},
   "outputs": [
    {
     "name": "stdout",
     "output_type": "stream",
     "text": [
      "+----------------+\n",
      "|   avg(ArrDelay)|\n",
      "+----------------+\n",
      "|7.02976170067958|\n",
      "+----------------+\n",
      "\n"
     ]
    }
   ],
   "source": [
    "flights.select(avg(\"ArrDelay\")).show()"
   ]
  },
  {
   "cell_type": "code",
   "execution_count": 68,
   "metadata": {},
   "outputs": [
    {
     "name": "stdout",
     "output_type": "stream",
     "text": [
      "+------+------------------+\n",
      "|Origin|     avg(DepDelay)|\n",
      "+------+------------------+\n",
      "|   BGM|4.1687834361089555|\n",
      "|   DLG|11.030317056236981|\n",
      "|   PSE|1.9544658493870404|\n",
      "|   INL| 6.168539325842697|\n",
      "|   MSY| 6.561068540421818|\n",
      "|   GEG| 6.025085080913685|\n",
      "|   BUR| 6.729482076835341|\n",
      "|   SNA| 5.851097255697041|\n",
      "|   GTF|2.0670837678136946|\n",
      "|   GRB|  4.68034480650486|\n",
      "|   IDA|3.0107333999882373|\n",
      "|   GRR| 5.621285433278302|\n",
      "|   LWB| 8.139846743295019|\n",
      "|   PVU|               0.0|\n",
      "|   EUG| 7.863950773842119|\n",
      "|   PSG|12.694912747707779|\n",
      "|   MYR| 5.641916213041666|\n",
      "|   GSO| 7.113773313808062|\n",
      "|   PVD| 6.849783636499666|\n",
      "|   ISO|   5.7409200968523|\n",
      "+------+------------------+\n",
      "only showing top 20 rows\n",
      "\n"
     ]
    }
   ],
   "source": [
    "#What was the average departure delay for each state?\n",
    "\n",
    "flights.groupBy(\"Origin\").agg(avg(\"DepDelay\")).show()"
   ]
  },
  {
   "cell_type": "code",
   "execution_count": 70,
   "metadata": {},
   "outputs": [
    {
     "name": "stdout",
     "output_type": "stream",
     "text": [
      "+----+-----+----------+---------+-------+----------+-------+----------+-------------+---------+-------+-----------------+--------------+-------+--------+--------+------+----+--------+------+-------+---------+----------------+--------+------------+------------+--------+-------------+-----------------+\n",
      "|Year|Month|DayofMonth|DayOfWeek|DepTime|CRSDepTime|ArrTime|CRSArrTime|UniqueCarrier|FlightNum|TailNum|ActualElapsedTime|CRSElapsedTime|AirTime|ArrDelay|DepDelay|Origin|Dest|Distance|TaxiIn|TaxiOut|Cancelled|CancellationCode|Diverted|CarrierDelay|WeatherDelay|NASDelay|SecurityDelay|LateAircraftDelay|\n",
      "+----+-----+----------+---------+-------+----------+-------+----------+-------------+---------+-------+-----------------+--------------+-------+--------+--------+------+----+--------+------+-------+---------+----------------+--------+------------+------------+--------+-------------+-----------------+\n",
      "|1987|   10|        14|        3|    741|       730|    912|       849|           PS|     1451|     NA|               91|            79|     NA|      23|      11|   SAN| SFO|     447|    NA|     NA|        0|              NA|       0|          NA|          NA|      NA|           NA|               NA|\n",
      "|1987|   10|        15|        4|    729|       730|    903|       849|           PS|     1451|     NA|               94|            79|     NA|      14|      -1|   SAN| SFO|     447|    NA|     NA|        0|              NA|       0|          NA|          NA|      NA|           NA|               NA|\n",
      "|1987|   10|        17|        6|    741|       730|    918|       849|           PS|     1451|     NA|               97|            79|     NA|      29|      11|   SAN| SFO|     447|    NA|     NA|        0|              NA|       0|          NA|          NA|      NA|           NA|               NA|\n",
      "|1987|   10|        18|        7|    729|       730|    847|       849|           PS|     1451|     NA|               78|            79|     NA|      -2|      -1|   SAN| SFO|     447|    NA|     NA|        0|              NA|       0|          NA|          NA|      NA|           NA|               NA|\n",
      "|1987|   10|        19|        1|    749|       730|    922|       849|           PS|     1451|     NA|               93|            79|     NA|      33|      19|   SAN| SFO|     447|    NA|     NA|        0|              NA|       0|          NA|          NA|      NA|           NA|               NA|\n",
      "|1987|   10|        21|        3|    728|       730|    848|       849|           PS|     1451|     NA|               80|            79|     NA|      -1|      -2|   SAN| SFO|     447|    NA|     NA|        0|              NA|       0|          NA|          NA|      NA|           NA|               NA|\n",
      "|1987|   10|        22|        4|    728|       730|    852|       849|           PS|     1451|     NA|               84|            79|     NA|       3|      -2|   SAN| SFO|     447|    NA|     NA|        0|              NA|       0|          NA|          NA|      NA|           NA|               NA|\n",
      "|1987|   10|        23|        5|    731|       730|    902|       849|           PS|     1451|     NA|               91|            79|     NA|      13|       1|   SAN| SFO|     447|    NA|     NA|        0|              NA|       0|          NA|          NA|      NA|           NA|               NA|\n",
      "|1987|   10|        24|        6|    744|       730|    908|       849|           PS|     1451|     NA|               84|            79|     NA|      19|      14|   SAN| SFO|     447|    NA|     NA|        0|              NA|       0|          NA|          NA|      NA|           NA|               NA|\n",
      "|1987|   10|        25|        7|    729|       730|    851|       849|           PS|     1451|     NA|               82|            79|     NA|       2|      -1|   SAN| SFO|     447|    NA|     NA|        0|              NA|       0|          NA|          NA|      NA|           NA|               NA|\n",
      "|1987|   10|        26|        1|    735|       730|    904|       849|           PS|     1451|     NA|               89|            79|     NA|      15|       5|   SAN| SFO|     447|    NA|     NA|        0|              NA|       0|          NA|          NA|      NA|           NA|               NA|\n",
      "|1987|   10|        28|        3|    741|       725|    919|       855|           PS|     1451|     NA|               98|            90|     NA|      24|      16|   SAN| SFO|     447|    NA|     NA|        0|              NA|       0|          NA|          NA|      NA|           NA|               NA|\n",
      "|1987|   10|        29|        4|    742|       725|    906|       855|           PS|     1451|     NA|               84|            90|     NA|      11|      17|   SAN| SFO|     447|    NA|     NA|        0|              NA|       0|          NA|          NA|      NA|           NA|               NA|\n",
      "|1987|   10|        31|        6|    726|       725|    848|       855|           PS|     1451|     NA|               82|            90|     NA|      -7|       1|   SAN| SFO|     447|    NA|     NA|        0|              NA|       0|          NA|          NA|      NA|           NA|               NA|\n",
      "|1987|   10|         1|        4|    936|       915|   1035|      1001|           PS|     1451|     NA|               59|            46|     NA|      34|      21|   SFO| RNO|     192|    NA|     NA|        0|              NA|       0|          NA|          NA|      NA|           NA|               NA|\n",
      "|1987|   10|         2|        5|    918|       915|   1017|      1001|           PS|     1451|     NA|               59|            46|     NA|      16|       3|   SFO| RNO|     192|    NA|     NA|        0|              NA|       0|          NA|          NA|      NA|           NA|               NA|\n",
      "|1987|   10|         3|        6|    928|       915|   1037|      1001|           PS|     1451|     NA|               69|            46|     NA|      36|      13|   SFO| RNO|     192|    NA|     NA|        0|              NA|       0|          NA|          NA|      NA|           NA|               NA|\n",
      "|1987|   10|         4|        7|    914|       915|   1003|      1001|           PS|     1451|     NA|               49|            46|     NA|       2|      -1|   SFO| RNO|     192|    NA|     NA|        0|              NA|       0|          NA|          NA|      NA|           NA|               NA|\n",
      "|1987|   10|         5|        1|   1042|       915|   1129|      1001|           PS|     1451|     NA|               47|            46|     NA|      88|      87|   SFO| RNO|     192|    NA|     NA|        0|              NA|       0|          NA|          NA|      NA|           NA|               NA|\n",
      "|1987|   10|         6|        2|    934|       915|   1024|      1001|           PS|     1451|     NA|               50|            46|     NA|      23|      19|   SFO| RNO|     192|    NA|     NA|        0|              NA|       0|          NA|          NA|      NA|           NA|               NA|\n",
      "+----+-----+----------+---------+-------+----------+-------+----------+-------------+---------+-------+-----------------+--------------+-------+--------+--------+------+----+--------+------+-------+---------+----------------+--------+------------+------------+--------+-------------+-----------------+\n",
      "only showing top 20 rows\n",
      "\n"
     ]
    }
   ],
   "source": [
    "#Which airline performed the worst seen from a customer perspective? (This can be answered in many different ways. \n",
    "#Describe what you consider, e.g., arrival delays, cancelations, …)\n",
    "flights1987 = flights.where(\"Year='1987'\")\n",
    "flights1987.show(20)"
   ]
  },
  {
   "cell_type": "code",
   "execution_count": 23,
   "metadata": {},
   "outputs": [
    {
     "name": "stdout",
     "output_type": "stream",
     "text": [
      "+----+-----+----------+---------+-------+----------+-------+----------+-------------+---------+-------+-----------------+--------------+-------+--------+--------+------+----+--------+------+-------+---------+----------------+--------+------------+------------+--------+-------------+-----------------+\n",
      "|Year|Month|DayofMonth|DayOfWeek|DepTime|CRSDepTime|ArrTime|CRSArrTime|UniqueCarrier|FlightNum|TailNum|ActualElapsedTime|CRSElapsedTime|AirTime|ArrDelay|DepDelay|Origin|Dest|Distance|TaxiIn|TaxiOut|Cancelled|CancellationCode|Diverted|CarrierDelay|WeatherDelay|NASDelay|SecurityDelay|LateAircraftDelay|\n",
      "+----+-----+----------+---------+-------+----------+-------+----------+-------------+---------+-------+-----------------+--------------+-------+--------+--------+------+----+--------+------+-------+---------+----------------+--------+------------+------------+--------+-------------+-----------------+\n",
      "|1988|    1|         9|        6|   1348|      1331|   1458|      1435|           PI|      942|     NA|               70|            64|     NA|      23|      17|   SYR| BWI|     273|    NA|     NA|        0|              NA|       0|          NA|          NA|      NA|           NA|               NA|\n",
      "+----+-----+----------+---------+-------+----------+-------+----------+-------------+---------+-------+-----------------+--------------+-------+--------+--------+------+----+--------+------+-------+---------+----------------+--------+------------+------------+--------+-------------+-----------------+\n",
      "only showing top 1 row\n",
      "\n"
     ]
    }
   ],
   "source": [
    "\n",
    "\n",
    "flights.show(1)\n"
   ]
  },
  {
   "cell_type": "code",
   "execution_count": 46,
   "metadata": {},
   "outputs": [
    {
     "name": "stdout",
     "output_type": "stream",
     "text": [
      "+-------------+\n",
      "|sum(ArrDelay)|\n",
      "+-------------+\n",
      "| 8.12959892E8|\n",
      "+-------------+\n",
      "\n"
     ]
    },
    {
     "ename": "TypeError",
     "evalue": "unsupported format string passed to NoneType.__format__",
     "output_type": "error",
     "traceback": [
      "\u001b[1;31m---------------------------------------------------------------------------\u001b[0m",
      "\u001b[1;31mTypeError\u001b[0m                                 Traceback (most recent call last)",
      "\u001b[1;32m<ipython-input-46-359aa5fdcbd1>\u001b[0m in \u001b[0;36m<module>\u001b[1;34m()\u001b[0m\n\u001b[1;32m----> 1\u001b[1;33m \u001b[0mprint\u001b[0m\u001b[1;33m(\u001b[0m\u001b[1;34m\"Sum of all arrival delays {:,}\"\u001b[0m\u001b[1;33m.\u001b[0m\u001b[0mformat\u001b[0m\u001b[1;33m(\u001b[0m\u001b[0marrDelayedFlights\u001b[0m\u001b[1;33m.\u001b[0m\u001b[0mshow\u001b[0m\u001b[1;33m(\u001b[0m\u001b[1;33m)\u001b[0m\u001b[1;33m)\u001b[0m\u001b[1;33m)\u001b[0m\u001b[1;33m\u001b[0m\u001b[0m\n\u001b[0m",
      "\u001b[1;31mTypeError\u001b[0m: unsupported format string passed to NoneType.__format__"
     ]
    }
   ],
   "source": [
    "print(\"Sum of all arrival delays {:,}\".format(arrDelayedFlights.show()))"
   ]
  },
  {
   "cell_type": "code",
   "execution_count": 49,
   "metadata": {},
   "outputs": [],
   "source": [
    "flights = flights.filter(flights.ArrDelay, isNotNull())"
   ]
  }
 ],
 "metadata": {
  "kernelspec": {
   "display_name": "Python 3",
   "language": "python",
   "name": "python3"
  },
  "language_info": {
   "codemirror_mode": {
    "name": "ipython",
    "version": 3
   },
   "file_extension": ".py",
   "mimetype": "text/x-python",
   "name": "python",
   "nbconvert_exporter": "python",
   "pygments_lexer": "ipython3",
   "version": "3.6.4"
  }
 },
 "nbformat": 4,
 "nbformat_minor": 2
}
